{
 "cells": [
  {
   "cell_type": "markdown",
   "id": "03d79289-3e80-47c8-87e6-f6d6582f63a2",
   "metadata": {},
   "source": [
    "Import the packages"
   ]
  },
  {
   "cell_type": "code",
   "execution_count": 1,
   "id": "6bd08810-c88c-46c7-a0a1-4a628f0c47d7",
   "metadata": {},
   "outputs": [],
   "source": [
    "import ee\n",
    "import geemap"
   ]
  },
  {
   "cell_type": "markdown",
   "id": "86c519d9-fd3f-4351-9e64-85ae8725a335",
   "metadata": {},
   "source": [
    "Map"
   ]
  },
  {
   "cell_type": "code",
   "execution_count": 2,
   "id": "a07f8a46-1a2e-4c40-9417-c83ffefd95e0",
   "metadata": {},
   "outputs": [
    {
     "data": {
      "application/vnd.jupyter.widget-view+json": {
       "model_id": "5ecf81f32f69481b9e7c73f45fd00a7f",
       "version_major": 2,
       "version_minor": 0
      },
      "text/plain": [
       "Map(center=[40, -100], controls=(WidgetControl(options=['position', 'transparent_bg'], widget=HBox(children=(T…"
      ]
     },
     "metadata": {},
     "output_type": "display_data"
    }
   ],
   "source": [
    "Map = geemap.Map(center=(40, -100), zoom=4)\n",
    "Map"
   ]
  },
  {
   "cell_type": "markdown",
   "id": "5ba8b558-d1e7-4821-8bc3-cf629b51988e",
   "metadata": {},
   "source": [
    "Add GEE data"
   ]
  },
  {
   "cell_type": "code",
   "execution_count": null,
   "id": "c04de280-7c26-48ba-baf1-6baebe8545a5",
   "metadata": {},
   "outputs": [],
   "source": [
    "dem = ee.Image('USGS/SRTMGL1_003')\n",
    "landcover = ee.Image(\"ESA/GLOBCOVER_L4_200901_200912_V2_3\").select('landcover')\n",
    "landsat7 = ee.Image('LANDSAT/LE7_TOA_5YEAR/1999_2003')\n",
    "states = ee.FeatureCollection(\"TIGER/2018/States\")"
   ]
  },
  {
   "cell_type": "markdown",
   "id": "e553aab9-0979-4249-abd1-c42bdb6af94c",
   "metadata": {},
   "source": [
    "Set visualization parameters"
   ]
  },
  {
   "cell_type": "code",
   "execution_count": null,
   "id": "970f3588-14b4-4a23-baea-44385d54c728",
   "metadata": {},
   "outputs": [],
   "source": [
    "dem_vis = {\n",
    "'min': 0,\n",
    "'max': 4000,\n",
    "'palette': ['006633', 'E5FFCC', '662A00', 'D8D8D8', 'F5F5F5']}\n",
    "\n",
    "landsat_vis = {\n",
    "    'min': 20,\n",
    "    'max': 200,\n",
    "    'bands': ['B4', 'B3', 'B2']\n",
    "}"
   ]
  },
  {
   "cell_type": "markdown",
   "id": "9351dc72-0732-44d0-9d58-5dd9b74ee87c",
   "metadata": {},
   "source": [
    "Add layers to the map"
   ]
  },
  {
   "cell_type": "code",
   "execution_count": null,
   "id": "8d294195-0bfd-4ef4-89da-233a0865cd09",
   "metadata": {},
   "outputs": [],
   "source": [
    "Map.addLayer(dem, dem_vis, 'SRTM DEM', True, 0.5)\n",
    "Map.addLayer(landcover, {}, 'Land cover')\n",
    "Map.addLayer(landsat7, landsat_vis, 'Landsat 7')\n",
    "Map.addLayer(states, {}, \"US States\")"
   ]
  },
  {
   "cell_type": "markdown",
   "id": "3d326d4a-312f-4d10-9391-270278e78bff",
   "metadata": {},
   "source": [
    "The interactive map was added to the notbook and later some datasets availbale on GEE were added to the map."
   ]
  }
 ],
 "metadata": {
  "kernelspec": {
   "display_name": "Python [conda env:gee]",
   "language": "python",
   "name": "conda-env-gee-py"
  },
  "language_info": {
   "codemirror_mode": {
    "name": "ipython",
    "version": 3
   },
   "file_extension": ".py",
   "mimetype": "text/x-python",
   "name": "python",
   "nbconvert_exporter": "python",
   "pygments_lexer": "ipython3",
   "version": "3.10.4"
  }
 },
 "nbformat": 4,
 "nbformat_minor": 5
}
