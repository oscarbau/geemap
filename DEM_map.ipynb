{
 "cells": [
  {
   "cell_type": "markdown",
   "id": "e69938f3-ddf8-47ef-bf7c-7af98f6937b5",
   "metadata": {},
   "source": [
    "Import libraries"
   ]
  },
  {
   "cell_type": "code",
   "execution_count": 1,
   "id": "7dcaf8fc-f3f6-456c-b13c-497f462afbbb",
   "metadata": {},
   "outputs": [],
   "source": [
    "import ee\n",
    "import geemap"
   ]
  },
  {
   "cell_type": "markdown",
   "id": "a5bf23e7-30c3-4fa5-9ec8-a74f29064dbf",
   "metadata": {},
   "source": [
    "Create interactive map"
   ]
  },
  {
   "cell_type": "code",
   "execution_count": 2,
   "id": "26674683-549a-43c9-8eda-262bf834e60b",
   "metadata": {},
   "outputs": [
    {
     "data": {
      "application/vnd.jupyter.widget-view+json": {
       "model_id": "a2ac48a925c9463394372f3df13b0f07",
       "version_major": 2,
       "version_minor": 0
      },
      "text/plain": [
       "Map(center=[40, -100], controls=(WidgetControl(options=['position', 'transparent_bg'], widget=HBox(children=(T…"
      ]
     },
     "metadata": {},
     "output_type": "display_data"
    }
   ],
   "source": [
    "Map = geemap.Map(center=(40, -100), zoom=4)\n",
    "Map"
   ]
  },
  {
   "cell_type": "markdown",
   "id": "a9fbac24-79f2-4b19-afe0-a842e3f8785d",
   "metadata": {},
   "source": [
    "Load DEM from GEE"
   ]
  },
  {
   "cell_type": "code",
   "execution_count": 3,
   "id": "0c37e03d-f719-475d-8c9e-76838e91f7ac",
   "metadata": {},
   "outputs": [],
   "source": [
    "dem = ee.Image('USGS/SRTMGL1_003')"
   ]
  },
  {
   "cell_type": "markdown",
   "id": "cd8f67bb-2418-4498-9a31-4120ebdbf864",
   "metadata": {},
   "source": [
    "Set visualization parameters"
   ]
  },
  {
   "cell_type": "code",
   "execution_count": 5,
   "id": "95f410cf-1a00-4293-99cb-d33bd61f8a90",
   "metadata": {},
   "outputs": [],
   "source": [
    "dem_vis = {\n",
    "'min': 0,\n",
    "'max': 4000,\n",
    "'palette': ['006633', 'E5FFCC', '662A00', 'D8D8D8', 'F5F5F5']}"
   ]
  },
  {
   "cell_type": "code",
   "execution_count": null,
   "id": "96711973-466a-473a-80e4-6bbaf50be943",
   "metadata": {},
   "outputs": [],
   "source": [
    "Add DEM to the map"
   ]
  },
  {
   "cell_type": "code",
   "execution_count": 6,
   "id": "fa74a1a7-c80b-4d23-b42a-0b080faa62af",
   "metadata": {},
   "outputs": [],
   "source": [
    "Map.addLayer(dem, dem_vis, 'SRTM DEM', True, 0.5)"
   ]
  }
 ],
 "metadata": {
  "kernelspec": {
   "display_name": "Python [conda env:gee]",
   "language": "python",
   "name": "conda-env-gee-py"
  },
  "language_info": {
   "codemirror_mode": {
    "name": "ipython",
    "version": 3
   },
   "file_extension": ".py",
   "mimetype": "text/x-python",
   "name": "python",
   "nbconvert_exporter": "python",
   "pygments_lexer": "ipython3",
   "version": "3.10.4"
  }
 },
 "nbformat": 4,
 "nbformat_minor": 5
}
